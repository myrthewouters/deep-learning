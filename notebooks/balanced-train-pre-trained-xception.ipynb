{
 "cells": [
  {
   "cell_type": "markdown",
   "metadata": {},
   "source": [
    "# RSNA Bone Age"
   ]
  },
  {
   "cell_type": "code",
   "execution_count": 1,
   "metadata": {},
   "outputs": [
    {
     "name": "stderr",
     "output_type": "stream",
     "text": [
      "Using TensorFlow backend.\n"
     ]
    }
   ],
   "source": [
    "import pandas as pd\n",
    "import numpy as np\n",
    "\n",
    "from os import listdir, mkdir, rename, makedirs\n",
    "from os.path import isfile, join, isdir\n",
    "\n",
    "from sklearn.utils import shuffle\n",
    "\n",
    "import matplotlib.pyplot as plt\n",
    "import seaborn as sns\n",
    "\n",
    "import keras\n",
    "from keras import layers, models, regularizers, optimizers\n",
    "from keras import backend as K\n",
    "from tensorflow.keras.preprocessing.image import ImageDataGenerator\n",
    "from keras.applications import Xception\n",
    "from keras.layers import Flatten, Dense, Dropout\n",
    "from keras.models import Model, Sequential\n",
    "from keras.callbacks import EarlyStopping, ModelCheckpoint"
   ]
  },
  {
   "cell_type": "code",
   "execution_count": 2,
   "metadata": {},
   "outputs": [],
   "source": [
    "train_val = pd.read_csv('./rsna-bone-age/boneage-training-dataset.csv', index_col='id')\n",
    "test = pd.read_csv('./rsna-bone-age/test.csv', index_col='id')"
   ]
  },
  {
   "cell_type": "code",
   "execution_count": 3,
   "metadata": {},
   "outputs": [
    {
     "data": {
      "text/plain": [
       "((12611, 2), (200, 2))"
      ]
     },
     "execution_count": 3,
     "metadata": {},
     "output_type": "execute_result"
    }
   ],
   "source": [
    "train_val.shape, test.shape"
   ]
  },
  {
   "cell_type": "code",
   "execution_count": 22,
   "metadata": {},
   "outputs": [
    {
     "data": {
      "text/html": [
       "<div>\n",
       "<style scoped>\n",
       "    .dataframe tbody tr th:only-of-type {\n",
       "        vertical-align: middle;\n",
       "    }\n",
       "\n",
       "    .dataframe tbody tr th {\n",
       "        vertical-align: top;\n",
       "    }\n",
       "\n",
       "    .dataframe thead th {\n",
       "        text-align: right;\n",
       "    }\n",
       "</style>\n",
       "<table border=\"1\" class=\"dataframe\">\n",
       "  <thead>\n",
       "    <tr style=\"text-align: right;\">\n",
       "      <th></th>\n",
       "      <th>id</th>\n",
       "      <th>boneage</th>\n",
       "    </tr>\n",
       "  </thead>\n",
       "  <tbody>\n",
       "    <tr>\n",
       "      <th>count</th>\n",
       "      <td>12611.000000</td>\n",
       "      <td>12611.000000</td>\n",
       "    </tr>\n",
       "    <tr>\n",
       "      <th>mean</th>\n",
       "      <td>8537.653001</td>\n",
       "      <td>127.320752</td>\n",
       "    </tr>\n",
       "    <tr>\n",
       "      <th>std</th>\n",
       "      <td>4108.763993</td>\n",
       "      <td>41.182021</td>\n",
       "    </tr>\n",
       "    <tr>\n",
       "      <th>min</th>\n",
       "      <td>1377.000000</td>\n",
       "      <td>1.000000</td>\n",
       "    </tr>\n",
       "    <tr>\n",
       "      <th>25%</th>\n",
       "      <td>5074.500000</td>\n",
       "      <td>96.000000</td>\n",
       "    </tr>\n",
       "    <tr>\n",
       "      <th>50%</th>\n",
       "      <td>8565.000000</td>\n",
       "      <td>132.000000</td>\n",
       "    </tr>\n",
       "    <tr>\n",
       "      <th>75%</th>\n",
       "      <td>12091.500000</td>\n",
       "      <td>156.000000</td>\n",
       "    </tr>\n",
       "    <tr>\n",
       "      <th>max</th>\n",
       "      <td>15610.000000</td>\n",
       "      <td>228.000000</td>\n",
       "    </tr>\n",
       "  </tbody>\n",
       "</table>\n",
       "</div>"
      ],
      "text/plain": [
       "                 id       boneage\n",
       "count  12611.000000  12611.000000\n",
       "mean    8537.653001    127.320752\n",
       "std     4108.763993     41.182021\n",
       "min     1377.000000      1.000000\n",
       "25%     5074.500000     96.000000\n",
       "50%     8565.000000    132.000000\n",
       "75%    12091.500000    156.000000\n",
       "max    15610.000000    228.000000"
      ]
     },
     "execution_count": 22,
     "metadata": {},
     "output_type": "execute_result"
    }
   ],
   "source": [
    "train_val.describe()"
   ]
  },
  {
   "cell_type": "markdown",
   "metadata": {},
   "source": [
    "## Descriptives of the dataset"
   ]
  },
  {
   "cell_type": "code",
   "execution_count": 4,
   "metadata": {},
   "outputs": [
    {
     "data": {
      "image/png": "[encoded data removed]",
      "text/plain": [
       "<Figure size 864x360 with 2 Axes>"
      ]
     },
     "metadata": {
      "needs_background": "light"
     },
     "output_type": "display_data"
    }
   ],
   "source": [
    "fig = plt.figure(figsize=(12,5)) \n",
    "fig_dims = (1, 2)\n",
    "fig.suptitle('Descriptives of training and validation set')\n",
    "\n",
    "plt.subplot2grid(fig_dims, (0, 0))\n",
    "plt.hist(train_val['boneage'])\n",
    "plt.title('Age')\n",
    "\n",
    "plt.subplot2grid(fig_dims, (0, 1))\n",
    "train_val['male'].value_counts().plot(kind='bar', title='Gender')\n",
    "plt.xticks([True, False], ['Male', 'Female'], rotation='horizontal');"
   ]
  },
  {
   "cell_type": "code",
   "execution_count": 5,
   "metadata": {},
   "outputs": [
    {
     "data": {
      "image/png": "[encoded data removed]",
      "text/plain": [
       "<Figure size 864x360 with 2 Axes>"
      ]
     },
     "metadata": {
      "needs_background": "light"
     },
     "output_type": "display_data"
    }
   ],
   "source": [
    "fig = plt.figure(figsize=(12,5)) \n",
    "fig_dims = (1, 2)\n",
    "fig.suptitle('Descriptives of test set')\n",
    "\n",
    "plt.subplot2grid(fig_dims, (0, 0))\n",
    "plt.hist(test['boneage'])\n",
    "plt.title('Age')\n",
    "\n",
    "plt.subplot2grid(fig_dims, (0, 1))\n",
    "test['male'].value_counts().plot(kind='bar', title='Gender')\n",
    "plt.xticks([True, False], ['Male', 'Female'], rotation='horizontal');"
   ]
  },
  {
   "cell_type": "markdown",
   "metadata": {},
   "source": [
    "## Add image path to df"
   ]
  },
  {
   "cell_type": "code",
   "execution_count": 9,
   "metadata": {},
   "outputs": [],
   "source": [
    "def imgs_path(df, typ):\n",
    "    \"\"\"\n",
    "    Function to add the image path to df\n",
    "    \"\"\"\n",
    "    \n",
    "    path = './rsna-bone-age/boneage-{}-dataset/'.format(typ)\n",
    "    df['img_path'] = None\n",
    "    for img in listdir(path):\n",
    "        if img.endswith('.png'):\n",
    "            img_path = path + img \n",
    "            df.loc[(int(img.strip('.png'))), 'img_path'] = img_path\n",
    "    return df"
   ]
  },
  {
   "cell_type": "code",
   "execution_count": 10,
   "metadata": {},
   "outputs": [],
   "source": [
    "train_val = imgs_path(train_val, 'training')\n",
    "test = imgs_path(test, 'test')"
   ]
  },
  {
   "cell_type": "code",
   "execution_count": 11,
   "metadata": {},
   "outputs": [
    {
     "data": {
      "text/plain": [
       "((12611, 3), (200, 3))"
      ]
     },
     "execution_count": 11,
     "metadata": {},
     "output_type": "execute_result"
    }
   ],
   "source": [
    "train_val.shape, test.shape"
   ]
  },
  {
   "cell_type": "markdown",
   "metadata": {},
   "source": [
    "### Resizing and Padding\n",
    "Code for the resize and padding function was taken from: https://jdhao.github.io/2017/11/06/resize-image-to-square-with-padding/"
   ]
  },
  {
   "cell_type": "code",
   "execution_count": 12,
   "metadata": {},
   "outputs": [],
   "source": [
    "import sys\n",
    "import cv2\n",
    "\n",
    "def resize_padding_img(img_path, desired_size):\n",
    "    \"\"\"\n",
    "    Function to resize the image with padding\n",
    "    \"\"\"\n",
    "    \n",
    "    desired_size = desired_size\n",
    "    im_pth = img_path\n",
    "\n",
    "    im = cv2.imread(im_pth)\n",
    "    old_size = im.shape[:2] # old_size is in (height, width) format\n",
    "\n",
    "    ratio = float(desired_size)/max(old_size)\n",
    "    new_size = tuple([int(x*ratio) for x in old_size])\n",
    "\n",
    "    # new_size should be in (width, height) format\n",
    "\n",
    "    im = cv2.resize(im, (new_size[1], new_size[0]))\n",
    "\n",
    "    delta_w = desired_size - new_size[1]\n",
    "    delta_h = desired_size - new_size[0]\n",
    "    top, bottom = delta_h//2, delta_h-(delta_h//2)\n",
    "    left, right = delta_w//2, delta_w-(delta_w//2)\n",
    "\n",
    "    color = [0, 0, 0]\n",
    "    new_im = cv2.copyMakeBorder(im, top, bottom, left, right, cv2.BORDER_CONSTANT, value=color)\n",
    "\n",
    "    return new_im\n",
    "\n",
    "def resize_padding_set(df, img_set, desired_size, save):\n",
    "    \"\"\"\n",
    "    Function to resize the entire set of images with padding and save to a desired path\n",
    "    \"\"\"\n",
    "    \n",
    "    # Create directory for resized and padded images\n",
    "    dirname = './rsna-bone-age/resized_padded/{}'.format(img_set)\n",
    "    if save:\n",
    "        makedirs(dirname)\n",
    "    \n",
    "    # Create extra column in df to save path to resized and padded image\n",
    "    df['rp_img_path'] = None\n",
    "    \n",
    "    for index, row in df.iterrows():\n",
    "        # Resizing and padding\n",
    "        img_path = row['img_path']\n",
    "        if save:\n",
    "            rp_img = resize_padding_img(img_path, desired_size)\n",
    "        \n",
    "        # Write resized and padded images to disk\n",
    "        filename = '{}.jpg'.format(index)\n",
    "        if save:    \n",
    "            cv2.imwrite(dirname + '/' + filename, rp_img) \n",
    "        \n",
    "        # Save path to resized and padded image to df\n",
    "        df.loc[index, 'rp_img_path'] = dirname + '/' + filename\n",
    "        \n",
    "    return df"
   ]
  },
  {
   "cell_type": "code",
   "execution_count": 14,
   "metadata": {},
   "outputs": [],
   "source": [
    "train_val = resize_padding_set(train_val, 'training', 100, False)\n",
    "test = resize_padding_set(test, 'test', 100, False)"
   ]
  },
  {
   "cell_type": "code",
   "execution_count": 15,
   "metadata": {
    "scrolled": true
   },
   "outputs": [
    {
     "data": {
      "text/plain": [
       "((12611, 4), (200, 4))"
      ]
     },
     "execution_count": 15,
     "metadata": {},
     "output_type": "execute_result"
    }
   ],
   "source": [
    "train_val.shape, test.shape"
   ]
  },
  {
   "cell_type": "markdown",
   "metadata": {},
   "source": [
    "## Split data into training and validation\n",
    "Code is inspired by https://www.kaggle.com/kmader/attention-on-pretrained-vgg16-for-bone-age\n",
    "\n",
    "### Cut bone age regression data into 10 categories to stratify on"
   ]
  },
  {
   "cell_type": "code",
   "execution_count": 17,
   "metadata": {},
   "outputs": [],
   "source": [
    "train_val.reset_index(inplace=True)"
   ]
  },
  {
   "cell_type": "code",
   "execution_count": 18,
   "metadata": {},
   "outputs": [],
   "source": [
    "train_val['boneage_category'] = pd.cut(train_val['boneage'], 10)"
   ]
  },
  {
   "cell_type": "code",
   "execution_count": 19,
   "metadata": {},
   "outputs": [
    {
     "name": "stdout",
     "output_type": "stream",
     "text": [
      "Number of images in training set:  9458\n",
      "Number of images in validation set:  3153\n"
     ]
    }
   ],
   "source": [
    "from sklearn.model_selection import train_test_split\n",
    "raw_train, validation = train_test_split(train_val, \n",
    "                                   test_size = 0.25, \n",
    "                                   random_state = 0,\n",
    "                                   stratify = train_val['boneage_category'])\n",
    "print('Number of images in training set: ', raw_train.shape[0])\n",
    "print('Number of images in validation set: ', validation.shape[0])"
   ]
  },
  {
   "cell_type": "markdown",
   "metadata": {},
   "source": [
    "## Balance distribution in training set\n",
    "Code is inspired by https://www.kaggle.com/kmader/attention-on-pretrained-vgg16-for-bone-age"
   ]
  },
  {
   "cell_type": "code",
   "execution_count": 20,
   "metadata": {},
   "outputs": [
    {
     "name": "stdout",
     "output_type": "stream",
     "text": [
      "New Data Size: 10000 Old Size: 9458\n"
     ]
    }
   ],
   "source": [
    "train = raw_train.groupby(['boneage_category', 'male']).apply(lambda x: x.sample(500, replace = True)\n",
    "                                                             ).reset_index(drop = True)\n",
    "print('New Data Size:', train.shape[0], 'Old Size:', raw_train.shape[0])"
   ]
  },
  {
   "cell_type": "code",
   "execution_count": 21,
   "metadata": {},
   "outputs": [
    {
     "data": {
      "image/png": "[encoded data removed]",
      "text/plain": [
       "<Figure size 864x360 with 2 Axes>"
      ]
     },
     "metadata": {
      "needs_background": "light"
     },
     "output_type": "display_data"
    }
   ],
   "source": [
    "fig = plt.figure(figsize=(12,5)) \n",
    "fig_dims = (1, 2)\n",
    "fig.suptitle('Descriptives of balanced training set')\n",
    "\n",
    "plt.subplot2grid(fig_dims, (0, 0))\n",
    "plt.hist(train['boneage'])\n",
    "plt.title('Age')\n",
    "\n",
    "plt.subplot2grid(fig_dims, (0, 1))\n",
    "train['male'].value_counts().plot(kind='bar', title='Gender')\n",
    "plt.xticks([True, False], ['Male', 'Female'], rotation='horizontal');"
   ]
  }
 ],
 "metadata": {
  "kernelspec": {
   "display_name": "Python 3",
   "language": "python",
   "name": "python3"
  },
  "language_info": {
   "codemirror_mode": {
    "name": "ipython",
    "version": 3
   },
   "file_extension": ".py",
   "mimetype": "text/x-python",
   "name": "python",
   "nbconvert_exporter": "python",
   "pygments_lexer": "ipython3",
   "version": "3.7.3"
  }
 },
 "nbformat": 4,
 "nbformat_minor": 4
}
